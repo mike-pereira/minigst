{
 "cells": [
  {
   "cell_type": "markdown",
   "metadata": {},
   "source": [
    "# minigst Python Package Tutorial\n",
    "\n",
    "This notebook demonstrates the basic usage of the minigst Python package, which provides wrapper functions for gstlearn.\n",
    "\n",
    "## Installation\n",
    "\n",
    "First, make sure you have gstlearn installed. Then install minigst:\n",
    "\n",
    "```bash\n",
    "cd python\n",
    "pip install .\n",
    "```"
   ]
  },
  {
   "cell_type": "code",
   "execution_count": null,
   "metadata": {},
   "outputs": [],
   "source": [
    "import numpy as np\n",
    "import pandas as pd\n",
    "import matplotlib.pyplot as plt\n",
    "import minigst as mg\n",
    "\n",
    "# Set random seed for reproducibility\n",
    "np.random.seed(42)"
   ]
  },
  {
   "cell_type": "markdown",
   "metadata": {},
   "source": [
    "## 1. Creating Database Objects\n",
    "\n",
    "### From a DataFrame"
   ]
  },
  {
   "cell_type": "code",
   "execution_count": null,
   "metadata": {},
   "outputs": [],
   "source": [
    "# Create a sample dataset\n",
    "n_points = 100\n",
    "data = pd.DataFrame({\n",
    "    'x': np.random.uniform(0, 100, n_points),\n",
    "    'y': np.random.uniform(0, 100, n_points),\n",
    "    'temperature': np.random.randn(n_points) * 5 + 20,\n",
    "    'elevation': np.random.randn(n_points) * 100 + 500\n",
    "})\n",
    "\n",
    "print(\"Sample data:\")\n",
    "print(data.head())\n",
    "\n",
    "# Convert to Db\n",
    "db = mg.df_to_db(data, coord_names=['x', 'y'])\n",
    "print(f\"\\nCreated Db with {db.getSampleNumber()} samples\")"
   ]
  },
  {
   "cell_type": "markdown",
   "metadata": {},
   "source": [
    "### Creating a Grid"
   ]
  },
  {
   "cell_type": "code",
   "execution_count": null,
   "metadata": {},
   "outputs": [],
   "source": [
    "# Create a regular grid\n",
    "grid = mg.create_db_grid(nx=[50, 50], dx=[2.0, 2.0], x0=[0, 0])\n",
    "print(f\"Created grid with {grid.getSampleNumber()} cells\")\n",
    "print(f\"Grid dimensions: {grid.getNXs()}\")"
   ]
  },
  {
   "cell_type": "markdown",
   "metadata": {},
   "source": [
    "## 2. Summary Statistics"
   ]
  },
  {
   "cell_type": "code",
   "execution_count": null,
   "metadata": {},
   "outputs": [],
   "source": [
    "# Compute summary statistics\n",
    "stats = mg.summary_stats(db, vname=['temperature', 'elevation'])\n",
    "print(\"Summary Statistics:\")\n",
    "print(stats)"
   ]
  },
  {
   "cell_type": "markdown",
   "metadata": {},
   "source": [
    "## 3. Plotting Data"
   ]
  },
  {
   "cell_type": "code",
   "execution_count": null,
   "metadata": {},
   "outputs": [],
   "source": [
    "# Plot points with color based on temperature\n",
    "fig, ax = plt.subplots(figsize=(10, 8))\n",
    "mg.dbplot_point(db, color='temperature', size='elevation', \n",
    "                size_range=(10, 100), ax=ax,\n",
    "                title='Spatial Distribution of Temperature and Elevation')\n",
    "plt.show()"
   ]
  },
  {
   "cell_type": "markdown",
   "metadata": {},
   "source": [
    "## 4. Variography\n",
    "\n",
    "### Compute Experimental Variogram"
   ]
  },
  {
   "cell_type": "code",
   "execution_count": null,
   "metadata": {},
   "outputs": [],
   "source": [
    "# Compute omnidirectional variogram\n",
    "vario = mg.vario_exp(db, vname='temperature', nlag=15, dlag=7.0)\n",
    "print(\"Experimental variogram computed\")"
   ]
  },
  {
   "cell_type": "markdown",
   "metadata": {},
   "source": [
    "### Fit Variogram Model"
   ]
  },
  {
   "cell_type": "code",
   "execution_count": null,
   "metadata": {},
   "outputs": [],
   "source": [
    "# Fit a variogram model\n",
    "model = mg.model_fit(vario, struct=['NUGGET', 'SPHERICAL'])\n",
    "print(f\"Model fitted with {model.getCovaNumber()} structures\")"
   ]
  },
  {
   "cell_type": "markdown",
   "metadata": {},
   "source": [
    "## 5. Kriging\n",
    "\n",
    "### Ordinary Kriging"
   ]
  },
  {
   "cell_type": "code",
   "execution_count": null,
   "metadata": {},
   "outputs": [],
   "source": [
    "# Perform ordinary kriging\n",
    "mg.minikriging(db, grid, vname='temperature', model=model, \n",
    "               type='ordinary', std=True, prefix='OK')\n",
    "print(\"Kriging completed\")\n",
    "print(f\"Output variables: {[name for name in grid.getAllNames() if 'OK.' in name]}\")"
   ]
  },
  {
   "cell_type": "markdown",
   "metadata": {},
   "source": [
    "### Visualize Kriging Results"
   ]
  },
  {
   "cell_type": "code",
   "execution_count": null,
   "metadata": {},
   "outputs": [],
   "source": [
    "# Plot kriging results\n",
    "fig, axes = plt.subplots(1, 2, figsize=(14, 6))\n",
    "\n",
    "# Plot predictions\n",
    "mg.dbplot_grid(grid, color='OK.temperature.estim', ax=axes[0],\n",
    "               title='Kriging Predictions', cmap='RdYlBu_r')\n",
    "mg.add_points(data['x'], data['y'], ax=axes[0], color='black', \n",
    "              marker='o', size=10)\n",
    "\n",
    "# Plot standard deviations\n",
    "mg.dbplot_grid(grid, color='OK.temperature.stdev', ax=axes[1],\n",
    "               title='Kriging Standard Deviation', cmap='viridis')\n",
    "mg.add_points(data['x'], data['y'], ax=axes[1], color='white', \n",
    "              marker='o', size=10)\n",
    "\n",
    "plt.tight_layout()\n",
    "plt.show()"
   ]
  },
  {
   "cell_type": "markdown",
   "metadata": {},
   "source": [
    "## 6. Cross-Validation"
   ]
  },
  {
   "cell_type": "code",
   "execution_count": null,
   "metadata": {},
   "outputs": [],
   "source": [
    "# Perform cross-validation\n",
    "mg.minixvalid(db, vname='temperature', model=model, \n",
    "              type='ordinary', std=True, prefix='XV')\n",
    "print(\"Cross-validation completed\")\n",
    "\n",
    "# Get cross-validation errors\n",
    "xv_error = db['XV.temperature.esterr']\n",
    "print(f\"\\nCross-validation error statistics:\")\n",
    "print(f\"Mean error: {np.nanmean(xv_error):.4f}\")\n",
    "print(f\"Std error: {np.nanstd(xv_error):.4f}\")\n",
    "print(f\"RMSE: {np.sqrt(np.nanmean(xv_error**2)):.4f}\")"
   ]
  },
  {
   "cell_type": "markdown",
   "metadata": {},
   "source": [
    "## 7. Gaussian Simulation"
   ]
  },
  {
   "cell_type": "code",
   "execution_count": null,
   "metadata": {},
   "outputs": [],
   "source": [
    "# Create a new grid for simulation\n",
    "sim_grid = mg.create_db_grid(nx=[50, 50], dx=[2.0, 2.0], x0=[0, 0])\n",
    "\n",
    "# Generate unconditional simulations\n",
    "mg.simulate_gauss_rf(sim_grid, model, nsim=3, seed=42)\n",
    "print(\"Simulations generated\")"
   ]
  },
  {
   "cell_type": "code",
   "execution_count": null,
   "metadata": {},
   "outputs": [],
   "source": [
    "# Plot simulations\n",
    "fig, axes = plt.subplots(1, 3, figsize=(15, 5))\n",
    "\n",
    "for i in range(3):\n",
    "    mg.dbplot_grid(sim_grid, color=f'Simu.{i+1}', ax=axes[i],\n",
    "                   title=f'Simulation {i+1}', cmap='RdYlBu_r')\n",
    "\n",
    "plt.tight_layout()\n",
    "plt.show()"
   ]
  },
  {
   "cell_type": "markdown",
   "metadata": {},
   "source": [
    "## Summary\n",
    "\n",
    "This notebook demonstrated the main features of the minigst Python package:\n",
    "\n",
    "1. Creating Db and DbGrid objects from DataFrames\n",
    "2. Computing summary statistics\n",
    "3. Plotting spatial data\n",
    "4. Computing and fitting variograms\n",
    "5. Performing kriging predictions\n",
    "6. Cross-validation\n",
    "7. Gaussian random field simulations\n",
    "\n",
    "For more information, see the [minigst documentation](https://github.com/mike-pereira/minigst)."
   ]
  }
 ],
 "metadata": {
  "kernelspec": {
   "display_name": "Python 3",
   "language": "python",
   "name": "python3"
  },
  "language_info": {
   "codemirror_mode": {
    "name": "ipython",
    "version": 3
   },
   "file_extension": ".py",
   "mimetype": "text/x-python",
   "name": "python",
   "nbconvert_exporter": "python",
   "pygments_lexer": "ipython3",
   "version": "3.8.0"
  }
 },
 "nbformat": 4,
 "nbformat_minor": 4
}
